{
  "cells": [
    {
      "cell_type": "markdown",
      "metadata": {},
      "source": [
        "# Retail A/B Test \u2013 Notebook\n",
        "\n",
        "**Objective:** Evaluate conversion lift from a new checkout. Run the next cell to load the sample data."
      ]
    },
    {
      "cell_type": "code",
      "execution_count": null,
      "metadata": {},
      "outputs": [],
      "source": [
        "import pandas as pd\n",
        "from statsmodels.stats.proportion import proportions_ztest\n",
        "df = pd.read_csv('../data/sample.csv')\n",
        "summary = (df.groupby('variant')\n",
        "             .agg(sessions=('session_id','nunique'),\n",
        "                  purchases=('purchased','sum'),\n",
        "                  avg_aov=('aov','mean'))\n",
        "             .reset_index())\n",
        "count = summary['purchases'].values\n",
        "nobs  = summary['sessions'].values\n",
        "stat, pval = proportions_ztest(count, nobs, alternative='larger')\n",
        "summary, (stat, pval)\n"
      ]
    }
  ],
  "metadata": {
    "kernelspec": {
      "display_name": "Python 3",
      "language": "python",
      "name": "python3"
    },
    "language_info": {
      "name": "python",
      "version": "3.x"
    }
  },
  "nbformat": 4,
  "nbformat_minor": 5
}